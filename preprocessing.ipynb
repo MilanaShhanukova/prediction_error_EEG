{
 "cells": [
  {
   "cell_type": "code",
   "execution_count": 5,
   "metadata": {},
   "outputs": [
    {
     "name": "stdout",
     "output_type": "stream",
     "text": [
      "Extracting parameters from ds003846-1.0.0/sub-1/ses-TestEMS/eeg/sub-1_ses-TestEMS_task-PredError_eeg.vhdr...\n",
      "Setting channel info structure...\n",
      "Reading 0 ... 258029  =      0.000 ...   516.064 secs...\n",
      "<Info | 7 non-empty values\n",
      " bads: []\n",
      " ch_names: BrainVision RDA_Fp1, BrainVision RDA_Fp2, BrainVision RDA_F7, ...\n",
      " chs: 64 EEG\n",
      " custom_ref_applied: False\n",
      " highpass: 0.0 Hz\n",
      " lowpass: 250.0 Hz\n",
      " meas_date: unspecified\n",
      " nchan: 64\n",
      " projs: []\n",
      " sfreq: 500.0 Hz\n",
      ">\n"
     ]
    }
   ],
   "source": [
    "import mne\n",
    "import pandas as pd\n",
    "from pathlib import Path\n",
    "import os\n",
    "\n",
    "\n",
    "base_path = Path(\"./ds003846-1.0.0\")\n",
    "subject = \"sub-1\"\n",
    "session = \"ses-TestEMS\"\n",
    "data_path = base_path / subject / session / \"eeg\"\n",
    "\n",
    "# Define filenames\n",
    "vhdr_file = data_path / f\"{subject}_{session}_task-PredError_eeg.vhdr\"\n",
    "events_file = data_path / f\"{subject}_{session}_task-PredError_events.tsv\"\n",
    "channels_file = data_path / f\"{subject}_{session}_task-PredError_channels.tsv\"\n",
    "\n",
    "# Ensure paths are correct\n",
    "if not vhdr_file.exists() or not events_file.exists() or not channels_file.exists():\n",
    "    raise FileNotFoundError(\"One or more required files are missing. Please check your dataset structure.\")\n",
    "\n",
    "# Load the EEG Data\n",
    "raw = mne.io.read_raw_brainvision(str(vhdr_file), preload=True)\n",
    "print(raw.info)"
   ]
  },
  {
   "cell_type": "code",
   "execution_count": null,
   "metadata": {},
   "outputs": [
    {
     "name": "stdout",
     "output_type": "stream",
     "text": [
      "Extracting parameters from data/sub-1/ses-TestEMS/eeg/sub-1_ses-TestEMS_task-PredError_eeg.vhdr...\n",
      "Setting channel info structure...\n",
      "Reading 0 ... 258029  =      0.000 ...   516.064 secs...\n",
      "<Info | 7 non-empty values\n",
      " bads: []\n",
      " ch_names: BrainVision RDA_Fp1, BrainVision RDA_Fp2, BrainVision RDA_F7, ...\n",
      " chs: 64 EEG\n",
      " custom_ref_applied: False\n",
      " highpass: 0.0 Hz\n",
      " lowpass: 250.0 Hz\n",
      " meas_date: unspecified\n",
      " nchan: 64\n",
      " projs: []\n",
      " sfreq: 500.0 Hz\n",
      ">\n"
     ]
    }
   ],
   "source": []
  }
 ],
 "metadata": {
  "kernelspec": {
   "display_name": "Python 3",
   "language": "python",
   "name": "python3"
  },
  "language_info": {
   "codemirror_mode": {
    "name": "ipython",
    "version": 3
   },
   "file_extension": ".py",
   "mimetype": "text/x-python",
   "name": "python",
   "nbconvert_exporter": "python",
   "pygments_lexer": "ipython3",
   "version": "3.11.5"
  }
 },
 "nbformat": 4,
 "nbformat_minor": 2
}
